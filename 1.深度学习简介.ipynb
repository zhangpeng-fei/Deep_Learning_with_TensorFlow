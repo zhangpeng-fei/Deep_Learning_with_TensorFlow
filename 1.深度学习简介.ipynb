{
 "cells": [
  {
   "cell_type": "markdown",
   "metadata": {},
   "source": [
    "# 人工智能、机器学习与深度学习\n",
    "\n",
    "* **机器学习**：如果一个程序可以在任务T上，随着经验E的增加，效果P也可以随之增加，则称这个程序可以从经验中学习\n",
    "* **深度学习**：主要关注如何搭建智能的计算机系统，解决人工智能中遇到的问题。\n",
    "* **计算神经学**：试图从算法层理解大脑的工作机制。关注如何建立更准确的模型来模拟人类大脑工作。\n",
    "* 垃圾邮件分类问题：特征提取（邮件地址、标题、收件人长度等）\n",
    "* 图像分类问题：输入一张图片，判断其属于的类别\n"
   ]
  },
  {
   "cell_type": "markdown",
   "metadata": {},
   "source": [
    "# 深度学习的发展历程"
   ]
  },
  {
   "cell_type": "markdown",
   "metadata": {},
   "source": [
    "# 深度学习的应用"
   ]
  },
  {
   "cell_type": "markdown",
   "metadata": {},
   "source": [
    "## 计算机视觉\n",
    "* 图像分类  \n",
    "* 物体识别：人脸识别（相机自动对焦，自动美颜，个人信息验证）DeepID2系统\n",
    "* 无人驾驶车\n",
    "* YouTube\n",
    "* 谷歌地图\n",
    "* 图像搜索"
   ]
  },
  {
   "cell_type": "markdown",
   "metadata": {},
   "source": [
    "## 语音识别\n",
    "GoogleNow\\苹果Siri\\微软Xbox\\Skype\\\n",
    "谷歌语音搜索\\同声传译\\机器翻译\\语音合成"
   ]
  },
  {
   "cell_type": "markdown",
   "metadata": {},
   "source": [
    "## 自然语言处理\n",
    "* 语言模型\n",
    "* 机器翻译\n",
    "* 词性标注\n",
    "* 实体识别\n",
    "* 情感分析\n",
    "* 广告推荐\n",
    "* 搜索排序"
   ]
  },
  {
   "cell_type": "markdown",
   "metadata": {},
   "source": [
    "## 人机博弈"
   ]
  },
  {
   "cell_type": "markdown",
   "metadata": {},
   "source": [
    "# 深度学习工具介绍对比"
   ]
  }
 ],
 "metadata": {
  "kernelspec": {
   "display_name": "Python [conda env:learn36]",
   "language": "python",
   "name": "conda-env-learn36-py"
  },
  "language_info": {
   "codemirror_mode": {
    "name": "ipython",
    "version": 3
   },
   "file_extension": ".py",
   "mimetype": "text/x-python",
   "name": "python",
   "nbconvert_exporter": "python",
   "pygments_lexer": "ipython3",
   "version": "3.6.8"
  },
  "toc": {
   "base_numbering": 1,
   "nav_menu": {},
   "number_sections": true,
   "sideBar": true,
   "skip_h1_title": false,
   "title_cell": "Table of Contents",
   "title_sidebar": "Contents",
   "toc_cell": false,
   "toc_position": {},
   "toc_section_display": true,
   "toc_window_display": true
  }
 },
 "nbformat": 4,
 "nbformat_minor": 2
}
