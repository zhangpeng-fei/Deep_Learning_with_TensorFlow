{
 "cells": [
  {
   "cell_type": "markdown",
   "metadata": {},
   "source": [
    "### 深度学习与深层神经网络"
   ]
  },
  {
   "cell_type": "markdown",
   "metadata": {},
   "source": [
    "**激活函数实现去线性化**：tf提供7种不同的非线性激活函数，**`tf.nn.relu|tf.nn.sigmoid|tf.nn.tanh`**是常见的几个。tf也支持自定义的激活函数。\n",
    "~~~python\n",
    "import tensorflow as tf\n",
    "a = tf.nn.relu(tf.matmul(x,w1) + biases1)\n",
    "y = tf.nn.relu(tf.matmul(a,w2) + biases2)\n",
    "~~~\n",
    "**多层网络解决异或运算**：感知机（perceptron）可以简单的理解为单层的神经网络，无法解决异或运算问题。多层神经网络可以解决。"
   ]
  },
  {
   "cell_type": "markdown",
   "metadata": {},
   "source": [
    "### 损失函数的定义"
   ]
  },
  {
   "cell_type": "markdown",
   "metadata": {},
   "source": [
    "#### 经典损失函数"
   ]
  },
  {
   "cell_type": "markdown",
   "metadata": {},
   "source": [
    "* 交叉熵（cross entropy）刻画两个概率分布之间的距离。H(p,q)=-E( p(x)logq(x))\n",
    "* softmax让输出变成一个概率分布。\n",
    "* 交叉熵函数不是对称的。**H(p,q)!=H(q,p)** ； **H(p,q)**刻画用分布**q（实际分布）来表达分布p（理论分布）**的困难程度\n",
    "* H((1,0,0),(0.5,0.4,0.1)) = -(1log0.5 + 0log0.4 + 0log0.1)\n",
    "~~~python\n",
    "cross_entropy = -tf.reduce_mean(y_ * tf.log(tf.clip_by_value(y, 1e-10, 1.0))\n",
    "                        + (1 - y_) * tf.log(tf.clip_by_value(1 - y, 1e-10, 1.0)))\n",
    "  # y_ 代表正确结果\n",
    "  # y  代表预测结果\n",
    "  # clip_by_value 限制结果到一定范围，防止除0操作\n",
    "  # 矩阵通过 * 实现乘法操作；tf.matmul实现矩阵乘法\n",
    "v1 = tf.constant([[1.,2.],[3.,4.]])\n",
    "v2 = tf.constant([[5.,6.],[7.,8.]])\n",
    "(v1*v2).eval()           # 输出[[5. , 12.],[21. , 32.]]\n",
    "tf.matmul(v1,v2).eval()  # 输出[[19., 22.],[43. , 50.]]\n",
    "tf.reduce_mean(v1).eval()# 平均值\n",
    "cross_entropy = tf.nn.softmax_cross_entropy_with_logits(labels=y_ , logits=y)\n",
    "cross_entropy = tf.nn.spare_softmax_cross_entropy_with_logits(labels=y_ , logits=y) # 只有一个答案的分类问题\n",
    "mse = tf.reduce_mean(tf.square(y_ - y)) # 均方误差\n",
    "~~~"
   ]
  },
  {
   "cell_type": "markdown",
   "metadata": {},
   "source": [
    "#### 自定义损失函数\n",
    "预测商品销量问题：商品的成本是1元，利润是10元。"
   ]
  },
  {
   "cell_type": "code",
   "execution_count": 2,
   "metadata": {
    "collapsed": true
   },
   "outputs": [
    {
     "name": "stdout",
     "output_type": "stream",
     "text": [
      "WARNING:tensorflow:From C:\\Users\\pengfeizhang\\Anaconda3\\envs\\learn36\\lib\\site-packages\\tensorflow\\python\\framework\\op_def_library.py:263: colocate_with (from tensorflow.python.framework.ops) is deprecated and will be removed in a future version.\n",
      "Instructions for updating:\n",
      "Colocations handled automatically by placer.\n",
      "After 0 training step(s), w1 is: \n"
     ]
    },
    {
     "data": {
      "text/plain": [
       "array([[-0.81031823],\n",
       "       [ 1.4855988 ]], dtype=float32)"
      ]
     },
     "execution_count": 2,
     "metadata": {},
     "output_type": "execute_result"
    },
    {
     "name": "stdout",
     "output_type": "stream",
     "text": [
      "After 1000 training step(s), w1 is: \n"
     ]
    },
    {
     "data": {
      "text/plain": [
       "array([[0.01247114],\n",
       "       [2.138545  ]], dtype=float32)"
      ]
     },
     "execution_count": 2,
     "metadata": {},
     "output_type": "execute_result"
    },
    {
     "name": "stdout",
     "output_type": "stream",
     "text": [
      "After 2000 training step(s), w1 is: \n"
     ]
    },
    {
     "data": {
      "text/plain": [
       "array([[0.45567423],\n",
       "       [2.1706069 ]], dtype=float32)"
      ]
     },
     "execution_count": 2,
     "metadata": {},
     "output_type": "execute_result"
    },
    {
     "name": "stdout",
     "output_type": "stream",
     "text": [
      "After 3000 training step(s), w1 is: \n"
     ]
    },
    {
     "data": {
      "text/plain": [
       "array([[0.69968736],\n",
       "       [1.846531  ]], dtype=float32)"
      ]
     },
     "execution_count": 2,
     "metadata": {},
     "output_type": "execute_result"
    },
    {
     "name": "stdout",
     "output_type": "stream",
     "text": [
      "After 4000 training step(s), w1 is: \n"
     ]
    },
    {
     "data": {
      "text/plain": [
       "array([[0.8988668],\n",
       "       [1.2973604]], dtype=float32)"
      ]
     },
     "execution_count": 2,
     "metadata": {},
     "output_type": "execute_result"
    },
    {
     "name": "stdout",
     "output_type": "stream",
     "text": [
      "Final w1 is: \n",
      "\n"
     ]
    },
    {
     "data": {
      "text/plain": [
       "array([[1.0193471],\n",
       "       [1.0428091]], dtype=float32)"
      ]
     },
     "execution_count": 2,
     "metadata": {},
     "output_type": "execute_result"
    }
   ],
   "source": [
    "import tensorflow as tf\n",
    "from numpy.random import RandomState\n",
    "\n",
    "batch_size = 8                  # 1. 定义神经网络的相关参数和变量。\n",
    "x = tf.placeholder(tf.float32, shape=(None, 2), name=\"x-input\")\n",
    "y_ = tf.placeholder(tf.float32, shape=(None, 1), name='y-input')\n",
    "w1= tf.Variable(tf.random_normal([2, 1], stddev=1, seed=1))\n",
    "y = tf.matmul(x, w1)\n",
    "\n",
    "loss_less = 10                  # 2. 设置自定义的损失函数。\n",
    "loss_more = 1                   #    定义损失函数使得预测少了的损失大，于是模型应该偏向多的方向预测。\n",
    "loss = tf.reduce_sum(tf.where(tf.greater(y, y_), (y - y_) * loss_more, (y_ - y) * loss_less))\n",
    "train_step = tf.train.AdamOptimizer(0.001).minimize(loss)\n",
    "\n",
    "rdm = RandomState(1)          # 3. 生成模拟数据集。\n",
    "X = rdm.rand(128,2)           # 噪声为均值为0的小量，所以这里的噪声设置为[-0.05,0.05]\n",
    "Y = [[x1+x2+(rdm.rand()/10.0-0.05)] for (x1, x2) in X]\n",
    "\n",
    "with tf.Session() as sess:    # 4. 训练模型。 \n",
    "    sess.run(tf.global_variables_initializer())\n",
    "    STEPS = 5000\n",
    "    for i in range(STEPS):\n",
    "        start = (i*batch_size) % 128\n",
    "        end = (i*batch_size) % 128 + batch_size\n",
    "        sess.run(train_step, feed_dict={x: X[start:end], y_: Y[start:end]})\n",
    "        if i % 1000 == 0:\n",
    "            print(\"After %d training step(s), w1 is: \" % (i))\n",
    "            sess.run(w1)\n",
    "    print(\"Final w1 is: \\n\")\n",
    "    sess.run(w1)"
   ]
  },
  {
   "cell_type": "code",
   "execution_count": null,
   "metadata": {},
   "outputs": [],
   "source": [
    "loss_less = 1              # 5. 重新定义损失函数，使得预测多了的损失大，于是模型应该偏向少的方向预测。\n",
    "loss_more = 10\n",
    "loss = tf.reduce_sum(tf.where(tf.greater(y, y_), (y - y_) * loss_more, (y_ - y) * loss_less))\n",
    "train_step = tf.train.AdamOptimizer(0.001).minimize(loss)\n",
    "\n",
    "with tf.Session() as sess:\n",
    "    init_op = tf.global_variables_initializer()\n",
    "    sess.run(init_op)\n",
    "    STEPS = 5000\n",
    "    for i in range(STEPS):\n",
    "        start = (i*batch_size) % 128\n",
    "        end = (i*batch_size) % 128 + batch_size\n",
    "        sess.run(train_step, feed_dict={x: X[start:end], y_: Y[start:end]})\n",
    "        if i % 1000 == 0:\n",
    "            print(\"After %d training step(s), w1 is: \" % (i))\n",
    "            sess.run(w1)\n",
    "    print(\"Final w1 is: \\n\")\n",
    "    sess.run(w1)"
   ]
  },
  {
   "cell_type": "code",
   "execution_count": null,
   "metadata": {},
   "outputs": [],
   "source": [
    "loss = tf.losses.mean_squared_error(y, y_)      # 6. 定义损失函数为MSE。\n",
    "train_step = tf.train.AdamOptimizer(0.001).minimize(loss)\n",
    "\n",
    "with tf.Session() as sess:\n",
    "    init_op = tf.global_variables_initializer()\n",
    "    sess.run(init_op)\n",
    "    STEPS = 5000\n",
    "    for i in range(STEPS):\n",
    "        start = (i*batch_size) % 128\n",
    "        end = (i*batch_size) % 128 + batch_size\n",
    "        sess.run(train_step, feed_dict={x: X[start:end], y_: Y[start:end]})\n",
    "        if i % 1000 == 0:\n",
    "            print(\"After %d training step(s), w1 is: \" % (i))\n",
    "            sess.run(w1)\n",
    "    print(\"Final w1 is: \\n\")\n",
    "    sess.run(w1)"
   ]
  },
  {
   "cell_type": "markdown",
   "metadata": {},
   "source": [
    "### 神经网络优化算法\n",
    "随机梯度下降算法（SGD）：每次计算一小部分训练数据的损失函数。一般将**所有训练数据随机打乱之后再选取**，可以得到更好的优化效果"
   ]
  },
  {
   "cell_type": "markdown",
   "metadata": {},
   "source": [
    "### 神经网络进一步优化"
   ]
  },
  {
   "cell_type": "markdown",
   "metadata": {},
   "source": [
    "#### 学习率的设置"
   ]
  },
  {
   "cell_type": "code",
   "execution_count": null,
   "metadata": {},
   "outputs": [],
   "source": [
    "import tensorflow as tf     # 1. 学习率为1的时候，x在5和-5之间震荡。\n",
    "TRAINING_STEPS = 10         # 假设我们要最小化函数  y=x^2, 选择初始点   x0=5\n",
    "LEARNING_RATE = 1        \n",
    "x = tf.Variable(tf.constant(5, dtype=tf.float32), name=\"x\")\n",
    "y = tf.square(x)\n",
    "\n",
    "train_op = tf.train.GradientDescentOptimizer(LEARNING_RATE).minimize(y)\n",
    "\n",
    "with tf.Session() as sess:\n",
    "    sess.run(tf.global_variables_initializer())\n",
    "    for i in range(TRAINING_STEPS):\n",
    "        sess.run(train_op)\n",
    "        x_value = sess.run(x)\n",
    "        print \"After %s iteration(s): x%s is %f.\"% (i+1, i+1, x_value) "
   ]
  },
  {
   "cell_type": "code",
   "execution_count": null,
   "metadata": {},
   "outputs": [],
   "source": [
    "TRAINING_STEPS = 1000\n",
    "LEARNING_RATE = 0.001# 2. 学习率为0.001的时候，下降速度过慢，在901轮时才收敛到0.823355。\n",
    "x = tf.Variable(tf.constant(5, dtype=tf.float32), name=\"x\")\n",
    "y = tf.square(x)\n",
    "\n",
    "train_op = tf.train.GradientDescentOptimizer(LEARNING_RATE).minimize(y)\n",
    "\n",
    "with tf.Session() as sess:\n",
    "    sess.run(tf.global_variables_initializer())\n",
    "    for i in range(TRAINING_STEPS):\n",
    "        sess.run(train_op)\n",
    "        if i % 100 == 0: \n",
    "            x_value = sess.run(x)\n",
    "            print \"After %s iteration(s): x%s is %f.\"% (i+1, i+1, x_value)"
   ]
  },
  {
   "cell_type": "code",
   "execution_count": 9,
   "metadata": {
    "collapsed": true
   },
   "outputs": [
    {
     "data": {
      "text/plain": [
       "'        # 3. 使用指数衰减的学习率，在迭代初期得到较高的下降速度，可以在较小的训练轮数下取得不错的收敛程度。 \\ndecayed_learning_rate = learning_rate * decay_rate **(global_step / deay_steps) \\n                        初始学习率      衰减系数                    衰减速度\\n                        staircase=True ： global_step / deay_steps 会被转化成整数，使得学习率阶梯衰减\\n                        '"
      ]
     },
     "execution_count": 9,
     "metadata": {},
     "output_type": "execute_result"
    },
    {
     "name": "stdout",
     "output_type": "stream",
     "text": [
      "After 1 iteration(s): x1 is 4.000000, learning rate is 0.096000.\n",
      "After 2 iteration(s): x2 is 3.232000, learning rate is 0.092160.\n",
      "After 3 iteration(s): x3 is 2.636278, learning rate is 0.088474.\n",
      "After 4 iteration(s): x4 is 2.169796, learning rate is 0.084935.\n",
      "After 5 iteration(s): x5 is 1.801214, learning rate is 0.081537.\n",
      "After 6 iteration(s): x6 is 1.507482, learning rate is 0.078276.\n",
      "After 7 iteration(s): x7 is 1.271483, learning rate is 0.075145.\n",
      "After 8 iteration(s): x8 is 1.080393, learning rate is 0.072139.\n",
      "After 9 iteration(s): x9 is 0.924516, learning rate is 0.069253.\n",
      "After 10 iteration(s): x10 is 0.796464, learning rate is 0.066483.\n",
      "After 11 iteration(s): x11 is 0.690561, learning rate is 0.063824.\n",
      "After 12 iteration(s): x12 is 0.602412, learning rate is 0.061271.\n",
      "After 13 iteration(s): x13 is 0.528592, learning rate is 0.058820.\n",
      "After 14 iteration(s): x14 is 0.466408, learning rate is 0.056467.\n",
      "After 15 iteration(s): x15 is 0.413734, learning rate is 0.054209.\n",
      "After 16 iteration(s): x16 is 0.368878, learning rate is 0.052040.\n",
      "After 17 iteration(s): x17 is 0.330485, learning rate is 0.049959.\n",
      "After 18 iteration(s): x18 is 0.297464, learning rate is 0.047960.\n",
      "After 19 iteration(s): x19 is 0.268931, learning rate is 0.046042.\n",
      "After 20 iteration(s): x20 is 0.244167, learning rate is 0.044200.\n",
      "After 21 iteration(s): x21 is 0.222583, learning rate is 0.042432.\n",
      "After 22 iteration(s): x22 is 0.203693, learning rate is 0.040735.\n",
      "After 23 iteration(s): x23 is 0.187098, learning rate is 0.039106.\n",
      "After 24 iteration(s): x24 is 0.172465, learning rate is 0.037541.\n",
      "After 25 iteration(s): x25 is 0.159516, learning rate is 0.036040.\n",
      "After 26 iteration(s): x26 is 0.148018, learning rate is 0.034598.\n",
      "After 27 iteration(s): x27 is 0.137776, learning rate is 0.033214.\n",
      "After 28 iteration(s): x28 is 0.128624, learning rate is 0.031886.\n",
      "After 29 iteration(s): x29 is 0.120421, learning rate is 0.030610.\n",
      "After 30 iteration(s): x30 is 0.113049, learning rate is 0.029386.\n",
      "After 31 iteration(s): x31 is 0.106405, learning rate is 0.028210.\n",
      "After 32 iteration(s): x32 is 0.100402, learning rate is 0.027082.\n",
      "After 33 iteration(s): x33 is 0.094963, learning rate is 0.025999.\n",
      "After 34 iteration(s): x34 is 0.090026, learning rate is 0.024959.\n",
      "After 35 iteration(s): x35 is 0.085532, learning rate is 0.023960.\n",
      "After 36 iteration(s): x36 is 0.081433, learning rate is 0.023002.\n",
      "After 37 iteration(s): x37 is 0.077687, learning rate is 0.022082.\n",
      "After 38 iteration(s): x38 is 0.074256, learning rate is 0.021199.\n",
      "After 39 iteration(s): x39 is 0.071108, learning rate is 0.020351.\n",
      "After 40 iteration(s): x40 is 0.068213, learning rate is 0.019537.\n",
      "After 41 iteration(s): x41 is 0.065548, learning rate is 0.018755.\n",
      "After 42 iteration(s): x42 is 0.063089, learning rate is 0.018005.\n",
      "After 43 iteration(s): x43 is 0.060818, learning rate is 0.017285.\n",
      "After 44 iteration(s): x44 is 0.058715, learning rate is 0.016593.\n",
      "After 45 iteration(s): x45 is 0.056767, learning rate is 0.015930.\n",
      "After 46 iteration(s): x46 is 0.054958, learning rate is 0.015292.\n",
      "After 47 iteration(s): x47 is 0.053277, learning rate is 0.014681.\n",
      "After 48 iteration(s): x48 is 0.051713, learning rate is 0.014093.\n",
      "After 49 iteration(s): x49 is 0.050255, learning rate is 0.013530.\n",
      "After 50 iteration(s): x50 is 0.048895, learning rate is 0.012989.\n",
      "After 51 iteration(s): x51 is 0.047625, learning rate is 0.012469.\n",
      "After 52 iteration(s): x52 is 0.046437, learning rate is 0.011970.\n",
      "After 53 iteration(s): x53 is 0.045326, learning rate is 0.011491.\n",
      "After 54 iteration(s): x54 is 0.044284, learning rate is 0.011032.\n",
      "After 55 iteration(s): x55 is 0.043307, learning rate is 0.010591.\n",
      "After 56 iteration(s): x56 is 0.042390, learning rate is 0.010167.\n",
      "After 57 iteration(s): x57 is 0.041528, learning rate is 0.009760.\n",
      "After 58 iteration(s): x58 is 0.040717, learning rate is 0.009370.\n",
      "After 59 iteration(s): x59 is 0.039954, learning rate is 0.008995.\n",
      "After 60 iteration(s): x60 is 0.039235, learning rate is 0.008635.\n",
      "After 61 iteration(s): x61 is 0.038558, learning rate is 0.008290.\n",
      "After 62 iteration(s): x62 is 0.037918, learning rate is 0.007958.\n",
      "After 63 iteration(s): x63 is 0.037315, learning rate is 0.007640.\n",
      "After 64 iteration(s): x64 is 0.036745, learning rate is 0.007334.\n",
      "After 65 iteration(s): x65 is 0.036206, learning rate is 0.007041.\n",
      "After 66 iteration(s): x66 is 0.035696, learning rate is 0.006759.\n",
      "After 67 iteration(s): x67 is 0.035213, learning rate is 0.006489.\n",
      "After 68 iteration(s): x68 is 0.034756, learning rate is 0.006229.\n",
      "After 69 iteration(s): x69 is 0.034323, learning rate is 0.005980.\n",
      "After 70 iteration(s): x70 is 0.033913, learning rate is 0.005741.\n",
      "After 71 iteration(s): x71 is 0.033523, learning rate is 0.005511.\n",
      "After 72 iteration(s): x72 is 0.033154, learning rate is 0.005291.\n",
      "After 73 iteration(s): x73 is 0.032803, learning rate is 0.005079.\n",
      "After 74 iteration(s): x74 is 0.032470, learning rate is 0.004876.\n",
      "After 75 iteration(s): x75 is 0.032153, learning rate is 0.004681.\n",
      "After 76 iteration(s): x76 is 0.031852, learning rate is 0.004494.\n",
      "After 77 iteration(s): x77 is 0.031566, learning rate is 0.004314.\n",
      "After 78 iteration(s): x78 is 0.031294, learning rate is 0.004141.\n",
      "After 79 iteration(s): x79 is 0.031034, learning rate is 0.003976.\n",
      "After 80 iteration(s): x80 is 0.030788, learning rate is 0.003817.\n",
      "After 81 iteration(s): x81 is 0.030553, learning rate is 0.003664.\n",
      "After 82 iteration(s): x82 is 0.030329, learning rate is 0.003518.\n",
      "After 83 iteration(s): x83 is 0.030115, learning rate is 0.003377.\n",
      "After 84 iteration(s): x84 is 0.029912, learning rate is 0.003242.\n",
      "After 85 iteration(s): x85 is 0.029718, learning rate is 0.003112.\n",
      "After 86 iteration(s): x86 is 0.029533, learning rate is 0.002988.\n",
      "After 87 iteration(s): x87 is 0.029357, learning rate is 0.002868.\n",
      "After 88 iteration(s): x88 is 0.029188, learning rate is 0.002753.\n",
      "After 89 iteration(s): x89 is 0.029027, learning rate is 0.002643.\n",
      "After 90 iteration(s): x90 is 0.028874, learning rate is 0.002538.\n",
      "After 91 iteration(s): x91 is 0.028727, learning rate is 0.002436.\n",
      "After 92 iteration(s): x92 is 0.028587, learning rate is 0.002339.\n",
      "After 93 iteration(s): x93 is 0.028454, learning rate is 0.002245.\n",
      "After 94 iteration(s): x94 is 0.028326, learning rate is 0.002155.\n",
      "After 95 iteration(s): x95 is 0.028204, learning rate is 0.002069.\n",
      "After 96 iteration(s): x96 is 0.028087, learning rate is 0.001986.\n",
      "After 97 iteration(s): x97 is 0.027976, learning rate is 0.001907.\n",
      "After 98 iteration(s): x98 is 0.027869, learning rate is 0.001831.\n",
      "After 99 iteration(s): x99 is 0.027767, learning rate is 0.001757.\n",
      "After 100 iteration(s): x100 is 0.027669, learning rate is 0.001687.\n"
     ]
    }
   ],
   "source": [
    "'''        # 3. 使用指数衰减的学习率，在迭代初期得到较高的下降速度，可以在较小的训练轮数下取得不错的收敛程度。 \n",
    "decayed_learning_rate = learning_rate * decay_rate **(global_step / deay_steps) \n",
    "                        初始学习率      衰减系数                    衰减速度\n",
    "                        staircase=True ： global_step / deay_steps 会被转化成整数，使得学习率阶梯衰减\n",
    "                        '''\n",
    "TRAINING_STEPS = 100\n",
    "global_step = tf.Variable(0)# 初始学习率为0.1；每训练1轮，学习率乘以0.96.\n",
    "LEARNING_RATE = tf.train.exponential_decay(0.1, global_step, 1, 0.96, staircase=True)\n",
    "                                       \n",
    "x = tf.Variable(tf.constant(5, dtype=tf.float32), name=\"x\")\n",
    "y = tf.square(x)\n",
    "train_op = tf.train.GradientDescentOptimizer(LEARNING_RATE).minimize(y, global_step=global_step)\n",
    "\n",
    "with tf.Session() as sess:\n",
    "    sess.run(tf.global_variables_initializer())\n",
    "    for i in range(TRAINING_STEPS):\n",
    "        sess.run(train_op)\n",
    "        if i % 1 == 0:\n",
    "            LEARNING_RATE_value = sess.run(LEARNING_RATE)\n",
    "            x_value = sess.run(x)\n",
    "            print(\"After %s iteration(s): x%s is %f, learning rate is %f.\"% (i+1, i+1, x_value, LEARNING_RATE_value))"
   ]
  },
  {
   "cell_type": "markdown",
   "metadata": {},
   "source": [
    "#### 过拟合问题\n",
    "~~~python\n",
    "# 下面代码给出了一个简单的带L2正则化的损失函数定义：\n",
    "import tensorflow as tf\n",
    "w = tf.Variable(tf.random_normal([2,1],stddev=1,seed=1))\n",
    "y = tf.matmul(x,w)\n",
    "loss = tf.reduce_mean(tf.square(y_ - y))+ tf.contrib.layers.l2_regularizer(0.01)(w)\n",
    "~~~"
   ]
  },
  {
   "cell_type": "code",
   "execution_count": 11,
   "metadata": {},
   "outputs": [
    {
     "data": {
      "text/plain": [
       "5.0"
      ]
     },
     "execution_count": 11,
     "metadata": {},
     "output_type": "execute_result"
    },
    {
     "data": {
      "text/plain": [
       "7.5"
      ]
     },
     "execution_count": 11,
     "metadata": {},
     "output_type": "execute_result"
    }
   ],
   "source": [
    "import tensorflow as tf\n",
    "weights = tf.constant([[1.,2.],[3.,4.]])\n",
    "with tf.Session() as sess:\n",
    "    sess.run(tf.contrib.layers.l1_regularizer(0.5)(weights))# (|1|+|-2|+|-3|+|4|)*0.5 = 5.0\n",
    "    sess.run(tf.contrib.layers.l2_regularizer(0.5)(weights))# (1^2+(-2)^2+(-3)^2+4^2)/2*0.5 = 7.5"
   ]
  },
  {
   "cell_type": "code",
   "execution_count": 1,
   "metadata": {},
   "outputs": [
    {
     "data": {
      "text/plain": [
       "<matplotlib.collections.PathCollection at 0x222d3fe6320>"
      ]
     },
     "execution_count": 1,
     "metadata": {},
     "output_type": "execute_result"
    },
    {
     "data": {
      "text/plain": [
       "<Figure size 640x480 with 1 Axes>"
      ]
     },
     "metadata": {},
     "output_type": "display_data"
    }
   ],
   "source": [
    "import tensorflow as tf             # 1. 生成模拟数据集。\n",
    "import matplotlib.pyplot as plt\n",
    "import numpy as np\n",
    "\n",
    "data = []\n",
    "label = []\n",
    "np.random.seed(0)\n",
    "\n",
    "# 以原点为圆心，半径为1的圆把散点划分成红蓝两部分，并加入随机噪音。\n",
    "for i in range(150):\n",
    "    x1 = np.random.uniform(-1,1)\n",
    "    x2 = np.random.uniform(0,2)\n",
    "    if x1**2 + x2**2 <= 1:\n",
    "        data.append([np.random.normal(x1, 0.1),np.random.normal(x2,0.1)])\n",
    "        label.append(0)\n",
    "    else:\n",
    "        data.append([np.random.normal(x1, 0.1), np.random.normal(x2, 0.1)])\n",
    "        label.append(1)\n",
    "        \n",
    "data = np.hstack(data).reshape(-1,2)\n",
    "label = np.hstack(label).reshape(-1, 1)\n",
    "plt.scatter(data[:,0].tolist(), data[:,1].tolist(), c=label[:,0].tolist(),cmap=\"RdBu\", vmin=-.2, vmax=1.2, edgecolor=\"white\")\n",
    "plt.show()    "
   ]
  },
  {
   "cell_type": "code",
   "execution_count": 2,
   "metadata": {},
   "outputs": [],
   "source": [
    "def get_weight(shape, lambda1):      # 2. 定义一个获取权重，并自动加入正则项到损失的函数。\n",
    "    var = tf.Variable(tf.random_normal(shape), dtype=tf.float32) # 将L2正则化损失加入到集合中。\n",
    "    tf.add_to_collection('losses', tf.contrib.layers.l2_regularizer(lambda1)(var))\n",
    "    return var"
   ]
  },
  {
   "cell_type": "code",
   "execution_count": 3,
   "metadata": {
    "scrolled": true
   },
   "outputs": [
    {
     "name": "stdout",
     "output_type": "stream",
     "text": [
      "WARNING:tensorflow:From C:\\Users\\pengfeizhang\\Anaconda3\\envs\\learn36\\lib\\site-packages\\tensorflow\\python\\framework\\op_def_library.py:263: colocate_with (from tensorflow.python.framework.ops) is deprecated and will be removed in a future version.\n",
      "Instructions for updating:\n",
      "Colocations handled automatically by placer.\n",
      "\n",
      "WARNING: The TensorFlow contrib module will not be included in TensorFlow 2.0.\n",
      "For more information, please see:\n",
      "  * https://github.com/tensorflow/community/blob/master/rfcs/20180907-contrib-sunset.md\n",
      "  * https://github.com/tensorflow/addons\n",
      "If you depend on functionality not listed there, please file an issue.\n",
      "\n"
     ]
    }
   ],
   "source": [
    "x = tf.placeholder(tf.float32, shape=(None, 2))# 3. 定义神经网络。\n",
    "y_ = tf.placeholder(tf.float32, shape=(None, 1))\n",
    "sample_size = len(data)\n",
    "\n",
    "# 每层节点的个数\n",
    "layer_dimension = [2,10,5,3,1]\n",
    "\n",
    "n_layers = len(layer_dimension)\n",
    "\n",
    "cur_layer = x\n",
    "in_dimension = layer_dimension[0]\n",
    "\n",
    "# 循环生成网络结构\n",
    "for i in range(1, n_layers):\n",
    "    out_dimension = layer_dimension[i]\n",
    "    weight = get_weight([in_dimension, out_dimension], 0.003)\n",
    "    bias = tf.Variable(tf.constant(0.1, shape=[out_dimension]))\n",
    "    cur_layer = tf.nn.elu(tf.matmul(cur_layer, weight) + bias)\n",
    "    in_dimension = layer_dimension[i]\n",
    "\n",
    "y= cur_layer\n",
    "\n",
    "# 损失函数的定义。\n",
    "mse_loss = tf.reduce_sum(tf.pow(y_ - y, 2)) / sample_size\n",
    "tf.add_to_collection('losses', mse_loss)\n",
    "loss = tf.add_n(tf.get_collection('losses'))"
   ]
  },
  {
   "cell_type": "code",
   "execution_count": 4,
   "metadata": {},
   "outputs": [
    {
     "name": "stdout",
     "output_type": "stream",
     "text": [
      "After 0 steps, mse_loss: 1.417637\n",
      "After 2000 steps, mse_loss: 0.027275\n",
      "After 4000 steps, mse_loss: 0.019659\n",
      "After 6000 steps, mse_loss: 0.014055\n",
      "After 8000 steps, mse_loss: 0.012705\n",
      "After 10000 steps, mse_loss: 0.011945\n",
      "After 12000 steps, mse_loss: 0.011267\n",
      "After 14000 steps, mse_loss: 0.010597\n",
      "After 16000 steps, mse_loss: 0.007714\n",
      "After 18000 steps, mse_loss: 0.006902\n",
      "After 20000 steps, mse_loss: 0.004917\n",
      "After 22000 steps, mse_loss: 0.004308\n",
      "After 24000 steps, mse_loss: 0.003679\n",
      "After 26000 steps, mse_loss: 0.003530\n",
      "After 28000 steps, mse_loss: 0.003446\n",
      "After 30000 steps, mse_loss: 0.003390\n",
      "After 32000 steps, mse_loss: 0.003334\n",
      "After 34000 steps, mse_loss: 0.003296\n",
      "After 36000 steps, mse_loss: 0.003255\n",
      "After 38000 steps, mse_loss: 0.003221\n"
     ]
    },
    {
     "data": {
      "text/plain": [
       "<matplotlib.collections.PathCollection at 0x2237b924860>"
      ]
     },
     "execution_count": 4,
     "metadata": {},
     "output_type": "execute_result"
    },
    {
     "data": {
      "text/plain": [
       "<matplotlib.contour.QuadContourSet at 0x222d54d1ac8>"
      ]
     },
     "execution_count": 4,
     "metadata": {},
     "output_type": "execute_result"
    },
    {
     "data": {
      "image/png": "[encoded data removed]",
      "text/plain": [
       "<Figure size 432x288 with 1 Axes>"
      ]
     },
     "metadata": {
      "needs_background": "light"
     },
     "output_type": "display_data"
    }
   ],
   "source": [
    "                                 # 4. 训练不带正则项的损失函数mse_loss。\n",
    "# 定义训练的目标函数mse_loss，训练次数及训练模型\n",
    "train_op = tf.train.AdamOptimizer(0.001).minimize(mse_loss)\n",
    "TRAINING_STEPS = 40000\n",
    "\n",
    "with tf.Session() as sess:\n",
    "    tf.global_variables_initializer().run()\n",
    "    for i in range(TRAINING_STEPS):\n",
    "        sess.run(train_op, feed_dict={x: data, y_: label})\n",
    "        if i % 2000 == 0:\n",
    "            print(\"After %d steps, mse_loss: %f\" % (i,sess.run(mse_loss, feed_dict={x: data, y_: label})))\n",
    "\n",
    "    # 画出训练后的分割曲线       \n",
    "    xx, yy = np.mgrid[-1.2:1.2:.01, -0.2:2.2:.01]\n",
    "    grid = np.c_[xx.ravel(), yy.ravel()]\n",
    "    probs = sess.run(y, feed_dict={x:grid})\n",
    "    probs = probs.reshape(xx.shape)\n",
    "\n",
    "plt.scatter(data[:,0].tolist(), data[:,1].tolist(), c=label[:,0].tolist(),\n",
    "           cmap=\"RdBu\", vmin=-.2, vmax=1.2, edgecolor=\"white\")\n",
    "plt.contour(xx, yy, probs, levels=[.5], cmap=\"Greys\", vmin=0, vmax=.1)\n",
    "plt.show()"
   ]
  },
  {
   "cell_type": "code",
   "execution_count": 5,
   "metadata": {},
   "outputs": [
    {
     "name": "stdout",
     "output_type": "stream",
     "text": [
      "After 0 steps, loss: 2.813929\n",
      "After 2000 steps, loss: 0.113511\n",
      "After 4000 steps, loss: 0.070564\n",
      "After 6000 steps, loss: 0.061499\n",
      "After 8000 steps, loss: 0.059611\n",
      "After 10000 steps, loss: 0.059131\n",
      "After 12000 steps, loss: 0.058856\n",
      "After 14000 steps, loss: 0.058758\n",
      "After 16000 steps, loss: 0.058630\n",
      "After 18000 steps, loss: 0.058466\n",
      "After 20000 steps, loss: 0.058334\n",
      "After 22000 steps, loss: 0.058261\n",
      "After 24000 steps, loss: 0.058223\n",
      "After 26000 steps, loss: 0.058208\n",
      "After 28000 steps, loss: 0.058199\n",
      "After 30000 steps, loss: 0.058193\n",
      "After 32000 steps, loss: 0.058189\n",
      "After 34000 steps, loss: 0.058186\n",
      "After 36000 steps, loss: 0.058183\n",
      "After 38000 steps, loss: 0.058181\n"
     ]
    },
    {
     "data": {
      "text/plain": [
       "<matplotlib.collections.PathCollection at 0x2237d4bbcf8>"
      ]
     },
     "execution_count": 5,
     "metadata": {},
     "output_type": "execute_result"
    },
    {
     "data": {
      "text/plain": [
       "<matplotlib.contour.QuadContourSet at 0x222cbaa1438>"
      ]
     },
     "execution_count": 5,
     "metadata": {},
     "output_type": "execute_result"
    },
    {
     "data": {
      "image/png": "[encoded data removed]",
      "text/plain": [
       "<Figure size 432x288 with 1 Axes>"
      ]
     },
     "metadata": {
      "needs_background": "light"
     },
     "output_type": "display_data"
    }
   ],
   "source": [
    "# 5. 训练带正则项的损失函数loss。\n",
    "# 定义训练的目标函数loss，训练次数及训练模型\n",
    "train_op = tf.train.AdamOptimizer(0.001).minimize(loss)\n",
    "TRAINING_STEPS = 40000\n",
    "\n",
    "with tf.Session() as sess:\n",
    "    tf.global_variables_initializer().run()\n",
    "    for i in range(TRAINING_STEPS):\n",
    "        sess.run(train_op, feed_dict={x: data, y_: label})\n",
    "        if i % 2000 == 0:\n",
    "            print(\"After %d steps, loss: %f\" % (i, sess.run(loss, feed_dict={x: data, y_: label})))\n",
    "\n",
    "    # 画出训练后的分割曲线       \n",
    "    xx, yy = np.mgrid[-1:1:.01, 0:2:.01]\n",
    "    grid = np.c_[xx.ravel(), yy.ravel()]\n",
    "    probs = sess.run(y, feed_dict={x:grid})\n",
    "    probs = probs.reshape(xx.shape)\n",
    "\n",
    "plt.scatter(data[:,0].tolist(), data[:,1].tolist(), c=label[:,0].tolist(),\n",
    "           cmap=\"RdBu\", vmin=-.2, vmax=1.2, edgecolor=\"white\")\n",
    "plt.contour(xx, yy, probs, levels=[.5], cmap=\"Greys\", vmin=0, vmax=.1)\n",
    "plt.show()"
   ]
  },
  {
   "cell_type": "markdown",
   "metadata": {},
   "source": [
    "#### 滑动平均模型"
   ]
  },
  {
   "cell_type": "code",
   "execution_count": null,
   "metadata": {},
   "outputs": [],
   "source": [
    "import tensorflow as tf        # 1. 定义变量及滑动平均类；第5章将给出样例\n",
    "v1 = tf.Variable(0, dtype=tf.float32)\n",
    "step = tf.Variable(0, trainable=False)\n",
    "ema = tf.train.ExponentialMovingAverage(0.99, step)\n",
    "maintain_averages_op = ema.apply([v1]) "
   ]
  },
  {
   "cell_type": "code",
   "execution_count": null,
   "metadata": {},
   "outputs": [],
   "source": [
    "with tf.Session() as sess:     # 2. 查看不同迭代中变量取值的变化。\n",
    "    \n",
    "    # 初始化\n",
    "    init_op = tf.global_variables_initializer()\n",
    "    sess.run(init_op)\n",
    "    print sess.run([v1, ema.average(v1)])\n",
    "    \n",
    "    # 更新变量v1的取值\n",
    "    sess.run(tf.assign(v1, 5))\n",
    "    sess.run(maintain_averages_op)\n",
    "    print sess.run([v1, ema.average(v1)]) \n",
    "    \n",
    "    # 更新step和v1的取值\n",
    "    sess.run(tf.assign(step, 10000))  \n",
    "    sess.run(tf.assign(v1, 10))\n",
    "    sess.run(maintain_averages_op)\n",
    "    print sess.run([v1, ema.average(v1)])       \n",
    "    \n",
    "    # 更新一次v1的滑动平均值\n",
    "    sess.run(maintain_averages_op)\n",
    "    print sess.run([v1, ema.average(v1)])       \n"
   ]
  }
 ],
 "metadata": {
  "kernelspec": {
   "display_name": "Python [conda env:learn36]",
   "language": "python",
   "name": "conda-env-learn36-py"
  },
  "language_info": {
   "codemirror_mode": {
    "name": "ipython",
    "version": 3
   },
   "file_extension": ".py",
   "mimetype": "text/x-python",
   "name": "python",
   "nbconvert_exporter": "python",
   "pygments_lexer": "ipython3",
   "version": "3.6.8"
  },
  "toc": {
   "base_numbering": 1,
   "nav_menu": {},
   "number_sections": true,
   "sideBar": true,
   "skip_h1_title": false,
   "title_cell": "Table of Contents",
   "title_sidebar": "Contents",
   "toc_cell": false,
   "toc_position": {},
   "toc_section_display": true,
   "toc_window_display": true
  }
 },
 "nbformat": 4,
 "nbformat_minor": 2
}
